{
 "cells": [
  {
   "cell_type": "code",
   "execution_count": 50,
   "id": "955fd1bb",
   "metadata": {
    "ExecuteTime": {
     "end_time": "2021-09-12T20:06:37.444884Z",
     "start_time": "2021-09-12T20:06:37.431918Z"
    }
   },
   "outputs": [],
   "source": [
    "from selenium import webdriver"
   ]
  },
  {
   "cell_type": "code",
   "execution_count": 51,
   "id": "75ea9202",
   "metadata": {
    "ExecuteTime": {
     "end_time": "2021-09-12T20:06:46.485192Z",
     "start_time": "2021-09-12T20:06:38.514535Z"
    }
   },
   "outputs": [],
   "source": [
    "#github username and password\n",
    "username = 'deroahemo'\n",
    "password = '9632547eopr'\n",
    "\n",
    "#execute chrome Browser(my browser) driver and it is now controlled by automated test software \n",
    "driver = webdriver.Chrome(executable_path = r\"chromedriver.exe\")\n",
    "#open github login page \n",
    "driver.get('https://github.com/login')\n",
    "\n",
    "#find username field in github login page by selecting the id of the username or email address field \n",
    "#ID is known by standing on username or email address field and pressing right click on it then choose inspect and extract the ID\n",
    "username_field = driver.find_element_by_id(\"login_field\")\n",
    "#the sending our github username to the username field\n",
    "username_field.send_keys(username)\n",
    "#same in password field\n",
    "password_field = driver.find_element_by_id(\"password\")\n",
    "password_field.send_keys(password)\n",
    "\n",
    "#no id for sign in button so find it by name\n",
    "sigin_button = driver.find_element_by_name(\"commit\")\n",
    "#submit the button (after writing username and password it will click on sign in button)\n",
    "sigin_button.submit()\n",
    "\n"
   ]
  },
  {
   "cell_type": "code",
   "execution_count": 42,
   "id": "1131f509",
   "metadata": {
    "ExecuteTime": {
     "end_time": "2021-09-12T19:40:38.078304Z",
     "start_time": "2021-09-12T19:40:33.836682Z"
    }
   },
   "outputs": [],
   "source": []
  },
  {
   "cell_type": "code",
   "execution_count": null,
   "id": "1155d5ff",
   "metadata": {},
   "outputs": [],
   "source": []
  }
 ],
 "metadata": {
  "kernelspec": {
   "display_name": "Python 3",
   "language": "python",
   "name": "python3"
  },
  "language_info": {
   "codemirror_mode": {
    "name": "ipython",
    "version": 3
   },
   "file_extension": ".py",
   "mimetype": "text/x-python",
   "name": "python",
   "nbconvert_exporter": "python",
   "pygments_lexer": "ipython3",
   "version": "3.8.8"
  },
  "toc": {
   "base_numbering": 1,
   "nav_menu": {},
   "number_sections": true,
   "sideBar": true,
   "skip_h1_title": false,
   "title_cell": "Table of Contents",
   "title_sidebar": "Contents",
   "toc_cell": false,
   "toc_position": {},
   "toc_section_display": true,
   "toc_window_display": false
  }
 },
 "nbformat": 4,
 "nbformat_minor": 5
}
